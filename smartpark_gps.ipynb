{
 "cells": [
  {
   "cell_type": "code",
   "execution_count": 1,
   "metadata": {},
   "outputs": [
    {
     "data": {
      "text/plain": [
       "'\\nMap creation backend file.\\nCreated by:\\nYosef Leibman\\nAbhishek Kapoor\\nSultan Sidhu\\nfor TD Bank Elevate Hackathon, 22 September 2018.\\n'"
      ]
     },
     "execution_count": 1,
     "metadata": {},
     "output_type": "execute_result"
    }
   ],
   "source": [
    "\"\"\"\n",
    "Map creation backend file.\n",
    "Created by:\n",
    "Yosef Leibman\n",
    "Abhishek Kapoor\n",
    "Sultan Sidhu\n",
    "for TD Bank Elevate Hackathon, 22 September 2018.\n",
    "\"\"\""
   ]
  },
  {
   "cell_type": "code",
   "execution_count": 2,
   "metadata": {},
   "outputs": [],
   "source": [
    "import gmaps\n",
    "import gmaps.datasets\n",
    "import json\n",
    "import random\n",
    "from haversine import haversine\n",
    "import geocoder\n",
    "from datetime import datetime"
   ]
  },
  {
   "cell_type": "code",
   "execution_count": 3,
   "metadata": {},
   "outputs": [],
   "source": [
    "gmaps.configure(api_key=\"<insert api key>\") "
   ]
  },
  {
   "cell_type": "code",
   "execution_count": 4,
   "metadata": {},
   "outputs": [],
   "source": [
    "file = open(\"/Users/sultansidhu/Desktop/DataFiles/greenPParking2015.json\")\n",
    "stuff = file.read()\n",
    "jsonstuff = json.loads(stuff)\n",
    "# for x in jsonstuff['carparks']:\n",
    "#     print(x, end=\"\\n\\n\\n\\n\\n\")\n",
    "\n",
    "\n",
    "class ParkingClass:\n",
    "\n",
    "    def __init__(self, location: tuple, address: str, rate_per_half_hour: float, capacity: int):\n",
    "        \"\"\"\n",
    "        Creates a new Parking object\n",
    "        \"\"\"\n",
    "        self.location = location\n",
    "        self.address = address\n",
    "        self.rate_per_halfhour = rate_per_half_hour\n",
    "        self.capacity = capacity\n",
    "        self.proximity_rating = 0\n",
    "        self.rph_rating = 0\n",
    "        self.payment_options = []\n",
    "        self.occupancy_list = []\n",
    "        self.user_rating = 0\n",
    "        self.current_occupancy = 0\n",
    "\n",
    "    def __str__(self) -> str:\n",
    "        \"\"\"\n",
    "        Returns a String representation of this Parking object\n",
    "        \"\"\"\n",
    "        g = geocoder.ip(\"me\")\n",
    "        user_loc = tuple(g.latlng)\n",
    "        return \"Address: {}, Rate: {}, Capacity: {}, Percent Available: {}%, Distance: {}, Payment Options: {}\".format(\n",
    "                                                                           self.address,\n",
    "                                                                           self.rate_per_halfhour,\n",
    "                                                                           self.capacity,\n",
    "                                                                        (100-self.current_occupancy),\n",
    "                                                                          int(get_distance(user_loc, self)),\n",
    "                                                                           self.payment_options)\n",
    "\n",
    "    def getLocationTuple(self) -> tuple:\n",
    "        \"\"\"\n",
    "        Returns a tuple containing two floats representing the latitude and longitude of this parking\n",
    "        \"\"\"\n",
    "        return self.location\n",
    "    \n",
    "    def setOccupancyList(self) -> None:\n",
    "        \"\"\"\n",
    "        Sets the occupancy list of a ParkingLot object to a randomly generated list of occupancy percentages.\n",
    "        \"\"\"\n",
    "        property_list = []\n",
    "        while len(property_list) < 24:\n",
    "            length = len(property_list)\n",
    "            if length < 2:\n",
    "                x = random.randint(15,23)\n",
    "                property_list.append(x)\n",
    "            elif length < 8:\n",
    "                x = random.randint(10, 20)\n",
    "                property_list.append(x)\n",
    "            elif length < 10:\n",
    "                x = random.randint(25, 40)\n",
    "                property_list.append(x)\n",
    "            elif length < 19:\n",
    "                x = random.randint(45, 70)\n",
    "                property_list.append(x)\n",
    "            elif length < 22:\n",
    "                x = random.randint(35, 55)\n",
    "                property_list.append(x)\n",
    "            else:\n",
    "                x = random.randint(22, 32)\n",
    "                property_list.append(x)\n",
    "        self.occupancy_list = property_list\n",
    "        \n",
    "    def setPriceRating(self, rating):\n",
    "        \"\"\"Sets the price rating of this parking \"\"\"\n",
    "        self.rph_rating = rating\n",
    "            \n",
    "    \n",
    "    def getRate(self) -> float:\n",
    "        \"\"\"\n",
    "        Returns the rate-per-half-hour of a given parking lot.\n",
    "        \"\"\"\n",
    "        return float(self.rate_per_halfhour)\n",
    "    \n",
    "    def getAddress(self):\n",
    "        return self.address\n",
    "    \n",
    "    def getLattitude(self):\n",
    "        return self.location[0]\n",
    "    \n",
    "    def getLongitude(self):\n",
    "        return self.location[1]\n",
    "\n",
    "    def setPaymentOptions(self, payment_option_list):\n",
    "        \"\"\"Sets the payment options for a specific object.\"\"\"\n",
    "        self.payment_options = payment_option_list\n",
    "        \n",
    "    def setCurrentOccupancy(self):\n",
    "        \"\"\"Sets the current occupancy of this object.\"\"\"\n",
    "        currenttime = datetime.time(datetime.now()).hour\n",
    "        self.current_occupancy = self.occupancy_list[currenttime]\n",
    "        \n",
    "    def giveInfo(self):\n",
    "        x = str(self.getAddress()) + \" with rate/half-hour: $\" + str(self.getRate())\n",
    "        return x\n",
    "        \n",
    "\n",
    "def createParkingArray(jason):\n",
    "    \"\"\"Creates an array of all parking objects.\"\"\"\n",
    "    parkingArray = []\n",
    "    for i in range(len(jason['carparks'])):\n",
    "        address = jason['carparks'][i]['address']\n",
    "        lattitude = jason['carparks'][i]['lat']\n",
    "        longitude = jason['carparks'][i]['lng']\n",
    "        rate = jason['carparks'][i]['rate_half_hour']\n",
    "        capacity = jason['carparks'][i]['capacity']\n",
    "        new_object = ParkingClass((float(lattitude), float(longitude)), address, rate, capacity)\n",
    "        new_object.setPaymentOptions(jason['carparks'][i]['payment_options'])\n",
    "        parkingArray.append(new_object)\n",
    "    return parkingArray\n",
    "\n",
    "thestuff = createParkingArray(jsonstuff)"
   ]
  },
  {
   "cell_type": "code",
   "execution_count": 5,
   "metadata": {},
   "outputs": [],
   "source": [
    "marker_locations = [x.location for x in thestuff]"
   ]
  },
  {
   "cell_type": "code",
   "execution_count": 6,
   "metadata": {},
   "outputs": [
    {
     "name": "stdout",
     "output_type": "stream",
     "text": [
      "20 Charles Street with rate/half-hour: $2.0\n"
     ]
    }
   ],
   "source": [
    "print(thestuff[0].giveInfo())"
   ]
  },
  {
   "cell_type": "code",
   "execution_count": 7,
   "metadata": {},
   "outputs": [],
   "source": [
    "park_info = [g.giveInfo() for g in thestuff]"
   ]
  },
  {
   "cell_type": "code",
   "execution_count": null,
   "metadata": {},
   "outputs": [],
   "source": []
  },
  {
   "cell_type": "code",
   "execution_count": 8,
   "metadata": {},
   "outputs": [
    {
     "data": {
      "application/vnd.jupyter.widget-view+json": {
       "model_id": "a42180ef2e874036a1664460d7a2d727",
       "version_major": 2,
       "version_minor": 0
      },
      "text/plain": [
       "Figure(layout=FigureLayout(height='420px'))"
      ]
     },
     "metadata": {},
     "output_type": "display_data"
    }
   ],
   "source": [
    "fig = gmaps.figure()\n",
    "markers = gmaps.marker_layer(marker_locations, info_box_content=park_info)\n",
    "fig.add_layer(markers)\n",
    "fig"
   ]
  },
  {
   "cell_type": "code",
   "execution_count": 9,
   "metadata": {},
   "outputs": [],
   "source": [
    "location_dict = {'lattitude': [x.getLattitude() for x in thestuff], 'longitude': [l.getLongitude() for l in thestuff]}\n",
    "rate_dict = {'magnitude': [g.getRate() for g in thestuff]}"
   ]
  },
  {
   "cell_type": "code",
   "execution_count": 10,
   "metadata": {},
   "outputs": [
    {
     "data": {
      "application/vnd.jupyter.widget-view+json": {
       "model_id": "ba27e13637a14482b6f3425ccd41619a",
       "version_major": 2,
       "version_minor": 0
      },
      "text/plain": [
       "Figure(layout=FigureLayout(height='420px'))"
      ]
     },
     "metadata": {},
     "output_type": "display_data"
    }
   ],
   "source": [
    "new_fig = gmaps.figure()\n",
    "list_locations = [x.getLocationTuple() for x in thestuff]\n",
    "# print(list_locations)\n",
    "rates_list = [float(t.getRate())*10 for t in thestuff]\n",
    "# print(rates_list)\n",
    "heatmap_layer = gmaps.heatmap_layer(list_locations, weights=rate_dict['magnitude'], max_intensity=2.5, point_radius=20.0)\n",
    "new_fig.add_layer(heatmap_layer)\n",
    "new_fig"
   ]
  },
  {
   "cell_type": "code",
   "execution_count": null,
   "metadata": {},
   "outputs": [],
   "source": []
  },
  {
   "cell_type": "code",
   "execution_count": 11,
   "metadata": {},
   "outputs": [],
   "source": [
    "# newnew_fig = gmaps.figure()\n",
    "# list_locations = [x.getLocationTuple() for x in thestuff]\n",
    "# # print(list_locations)\n",
    "# rates_list = [float(t.getRate())*10 for t in thestuff]\n",
    "# # print(rates_list)\n",
    "# heatmap_layer = gmaps.heatmap_layer(list_locations, weights=rate_dict['magnitude'], max_intensity=2.5, point_radius=20.0)\n",
    "# newnew_fig.add_layer(heatmap_layer)\n",
    "# markers = gmaps.marker_layer(marker_locations, info_box_content=park_info)\n",
    "# newnew_fig.add_layer(markers)\n",
    "# newnew_fig\n",
    "# talk this out w yosef."
   ]
  },
  {
   "cell_type": "code",
   "execution_count": 12,
   "metadata": {
    "scrolled": false
   },
   "outputs": [],
   "source": [
    "def setAllOccupancies(lisst):\n",
    "    \"\"\"Returns a list of all occupancy lists set.\"\"\"\n",
    "    result = []\n",
    "    for x in lisst:\n",
    "        x.setOccupancyList()\n",
    "        result.append(x)\n",
    "    return result"
   ]
  },
  {
   "cell_type": "code",
   "execution_count": 13,
   "metadata": {},
   "outputs": [],
   "source": [
    "def setCurrentOccupancies(lsit):\n",
    "    \"\"\"sets the current occupancies of all parking lot objects in the lsit.\"\"\"\n",
    "    for obj in lsit:\n",
    "        obj.setCurrentOccupancy()"
   ]
  },
  {
   "cell_type": "code",
   "execution_count": 14,
   "metadata": {},
   "outputs": [],
   "source": [
    "newlist = setAllOccupancies(thestuff)"
   ]
  },
  {
   "cell_type": "code",
   "execution_count": 15,
   "metadata": {},
   "outputs": [],
   "source": [
    "setCurrentOccupancies(newlist)"
   ]
  },
  {
   "cell_type": "code",
   "execution_count": null,
   "metadata": {},
   "outputs": [],
   "source": []
  },
  {
   "cell_type": "code",
   "execution_count": 16,
   "metadata": {},
   "outputs": [
    {
     "data": {
      "text/plain": [
       "24"
      ]
     },
     "execution_count": 16,
     "metadata": {},
     "output_type": "execute_result"
    }
   ],
   "source": [
    "newlist[0].current_occupancy"
   ]
  },
  {
   "cell_type": "code",
   "execution_count": 17,
   "metadata": {},
   "outputs": [],
   "source": [
    "file = open(\"/Users/sultansidhu/Desktop/Python/SmartPark/new_parking_data.txt\", \"w\")\n",
    "for line in newlist:\n",
    "    file.write(str(line.occupancy_list))"
   ]
  },
  {
   "cell_type": "code",
   "execution_count": 18,
   "metadata": {},
   "outputs": [
    {
     "name": "stdout",
     "output_type": "stream",
     "text": [
      "222.35597879842143\n"
     ]
    }
   ],
   "source": [
    "t1 = (1, 1)\n",
    "t2 = (1, 3)\n",
    "print(haversine(t1, t2))"
   ]
  },
  {
   "cell_type": "code",
   "execution_count": 19,
   "metadata": {
    "scrolled": true
   },
   "outputs": [
    {
     "name": "stdout",
     "output_type": "stream",
     "text": [
      "[43.1923, -79.2559]\n"
     ]
    }
   ],
   "source": [
    "g = geocoder.ip(\"me\")\n",
    "user_loc = tuple(g.latlng)\n",
    "print(g.latlng)"
   ]
  },
  {
   "cell_type": "code",
   "execution_count": 20,
   "metadata": {},
   "outputs": [],
   "source": [
    "def get_distance(user_location, target_parking_lot):\n",
    "    \"\"\"Gets the distance betweent he target parking lto and the user location.\"\"\"\n",
    "    target_location = target_parking_lot.getLocationTuple()\n",
    "    return haversine(user_location, target_location)"
   ]
  },
  {
   "cell_type": "code",
   "execution_count": 21,
   "metadata": {},
   "outputs": [],
   "source": [
    "def user_distance(user_location, parking_obj_list):\n",
    "    \"\"\"Returns a list of distances of parking lots from the user.\"\"\"\n",
    "    result = []\n",
    "    for object in parking_obj_list:\n",
    "        result.append(get_distance(user_location, object))\n",
    "    return result"
   ]
  },
  {
   "cell_type": "code",
   "execution_count": 22,
   "metadata": {},
   "outputs": [],
   "source": [
    "user_distance_list = user_distance(user_loc, thestuff)"
   ]
  },
  {
   "cell_type": "code",
   "execution_count": 23,
   "metadata": {},
   "outputs": [],
   "source": [
    "def setProximityRating(parking_obj_list):\n",
    "    \"\"\"Sets the proximity rating of each of the objects in the array.\"\"\"\n",
    "    g = geocoder.ip(\"me\")\n",
    "    user_loc = tuple(g.latlng)\n",
    "    user_dist_list = user_distance(user_loc, parking_obj_list)\n",
    "    max_distance = max(user_dist_list)\n",
    "    for obj in parking_obj_list:\n",
    "        obj.proximity_rating = 1-((get_distance(user_loc, obj))/max_distance)"
   ]
  },
  {
   "cell_type": "code",
   "execution_count": 24,
   "metadata": {},
   "outputs": [],
   "source": [
    "list_of_prices = [x.getRate() for x in thestuff]\n",
    "scores = [] \n",
    "maximum = max(list_of_prices)\n",
    "for x in list_of_prices: \n",
    "    scores.append(1-(x/maximum))\n",
    "    \n",
    "for y in range(len(scores)):\n",
    "    thestuff[y].setPriceRating(scores[y])"
   ]
  },
  {
   "cell_type": "code",
   "execution_count": 25,
   "metadata": {},
   "outputs": [],
   "source": [
    "setProximityRating(thestuff)"
   ]
  },
  {
   "cell_type": "code",
   "execution_count": 26,
   "metadata": {},
   "outputs": [],
   "source": [
    "def setUserRating(list_of_object):\n",
    "    \"\"\"Sets the user rating of the objects stored in the ParkingLot object list.\"\"\"\n",
    "    for obj in list_of_object:\n",
    "        obj.user_rating = (1-(obj.current_occupancy/100))*(obj.proximity_rating + obj.rph_rating)/2"
   ]
  },
  {
   "cell_type": "code",
   "execution_count": 27,
   "metadata": {},
   "outputs": [],
   "source": [
    "setUserRating(thestuff)"
   ]
  },
  {
   "cell_type": "code",
   "execution_count": null,
   "metadata": {},
   "outputs": [],
   "source": []
  },
  {
   "cell_type": "code",
   "execution_count": 28,
   "metadata": {},
   "outputs": [],
   "source": [
    "def display_top_15(obj_list):\n",
    "    \"\"\"Returns the top 15 recommendations to the user, based on rating.\"\"\"\n",
    "    user_rating_list = [x.user_rating for x in obj_list]\n",
    "    recomms = []\n",
    "    i = 0\n",
    "    while i < 15:\n",
    "        max_entry = max(user_rating_list)\n",
    "        max_entry_index = user_rating_list.index(max_entry)\n",
    "        waste = user_rating_list.pop(max_entry_index)\n",
    "        recommendation = obj_list.pop(max_entry_index)\n",
    "        recomms.append(recommendation)\n",
    "        i += 1\n",
    "    return recomms\n",
    "    # the smaller the index number, more recommended it is.\n",
    "    # check occupancy as well"
   ]
  },
  {
   "cell_type": "code",
   "execution_count": 29,
   "metadata": {},
   "outputs": [],
   "source": [
    "recommendations = display_top_15(thestuff)"
   ]
  },
  {
   "cell_type": "code",
   "execution_count": 30,
   "metadata": {},
   "outputs": [
    {
     "data": {
      "application/vnd.jupyter.widget-view+json": {
       "model_id": "df114fa5bd484fdaa9d82d7ca7f06f47",
       "version_major": 2,
       "version_minor": 0
      },
      "text/plain": [
       "Figure(layout=FigureLayout(height='420px'))"
      ]
     },
     "metadata": {},
     "output_type": "display_data"
    }
   ],
   "source": [
    "newnewmap = gmaps.figure()\n",
    "list_locationss = [x.getLocationTuple() for x in thestuff]\n",
    "# print(list_locations)\n",
    "user_rating_list = [t.user_rating for t in thestuff]\n",
    "# print(rates_list)\n",
    "heatmapp_layer = gmaps.heatmap_layer(list_locationss, weights=user_rating_list, max_intensity=0.7, point_radius=20.0)\n",
    "newnewmap.add_layer(heatmapp_layer)\n",
    "newnewmap"
   ]
  },
  {
   "cell_type": "code",
   "execution_count": 31,
   "metadata": {},
   "outputs": [
    {
     "name": "stdout",
     "output_type": "stream",
     "text": [
      "Address: TTC Commuter Lot - Kipling South Lot - 400 Munster Avenue, Rate: False, Capacity: 829, Percent Available: 77%, Distance: 54, Payment Options: ['Pay at Entrance Lane Stations']\n",
      "\n",
      "Address: TTC Commuter Lot - Islington Lomond Lot - 20 Lomond Drive, Rate: False, Capacity: 283, Percent Available: 76%, Distance: 54, Payment Options: ['Pay and Display']\n",
      "\n",
      "Address: TTC Commuter Lot - Islington Fieldway Lot - 22 Fieldway Rd, Rate: False, Capacity: 270, Percent Available: 75%, Distance: 54, Payment Options: ['Pay and Display']\n",
      "\n",
      "Address: TTC Commuter Lot - Islington Main Lot - 3330 Bloor Street West, Rate: False, Capacity: 534, Percent Available: 75%, Distance: 54, Payment Options: ['Pay at Entrance Lane Stations']\n",
      "\n",
      "Address: TTC Commuter Lot - Islington Cordova Lot - 70 Cordova Avenue, Rate: False, Capacity: 473, Percent Available: 74%, Distance: 55, Payment Options: ['Pay at Entrance Lane Stations']\n",
      "\n",
      "Address: TTC Commuter Lot - Subway Crescent Lot - 95 Subway Cres, Rate: False, Capacity: 72, Percent Available: 73%, Distance: 54, Payment Options: ['Pay and Display']\n",
      "\n",
      "Address: TTC Commuter Lot - Kennedy South Lot -155 Transway Cres, Rate: False, Capacity: 673, Percent Available: 78%, Distance: 59, Payment Options: ['Pay at Entrance Lane Stations']\n",
      "\n",
      "Address: TTC Commuter Lot - Kipling North Lot - 120 Subway Cres, Rate: False, Capacity: 564, Percent Available: 72%, Distance: 54, Payment Options: ['Pay at Entrance Lane Stations']\n",
      "\n",
      "Address: TTC Commuter Lot - Kennedy East Lot - Near 2467 Eglinton Ave East, Rate: False, Capacity: 151, Percent Available: 77%, Distance: 60, Payment Options: ['Pay and Display']\n",
      "\n",
      "Address: TTC Commuter Lot - Kennedy North Service Road - 2450 Eglinton Ave East, Rate: False, Capacity: 199, Percent Available: 77%, Distance: 60, Payment Options: ['Pay and Display']\n",
      "\n",
      "Address: TTC Commuter Lot - Warden North Lot - 705 Warden Ave, Rate: False, Capacity: 920, Percent Available: 74%, Distance: 58, Payment Options: ['Pay at Entrance Lane Stations']\n",
      "\n",
      "Address: TTC Commuter Lot - Keele Lot - 400 Indian Road, Rate: False, Capacity: 187, Percent Available: 69%, Distance: 54, Payment Options: ['Pay and Display']\n",
      "\n",
      "Address: TTC Commuter Lot - Wilson Main Lot - 50 Wilson Heights Blvd, Rate: False, Capacity: 885, Percent Available: 77%, Distance: 62, Payment Options: ['Pay at Entrance Lane Stations']\n",
      "\n",
      "Address: TTC Commuter Lot - Warden South Lot - 701 Warden Ave, Rate: False, Capacity: 151, Percent Available: 72%, Distance: 57, Payment Options: ['Pay and Display']\n",
      "\n",
      "Address: TTC Commuter Lot - Victoria Main Lot - 777 Victoria Park Avenue, Rate: False, Capacity: 173, Percent Available: 70%, Distance: 55, Payment Options: ['Pay and Display']\n",
      "\n"
     ]
    }
   ],
   "source": [
    "for y in recommendations:\n",
    "    print(y, end=\"\\n\\n\")"
   ]
  },
  {
   "cell_type": "code",
   "execution_count": 32,
   "metadata": {},
   "outputs": [
    {
     "name": "stdout",
     "output_type": "stream",
     "text": [
      "Which one of these would you like to go to?11\n"
     ]
    }
   ],
   "source": [
    "fav_index = int(input(\"Which one of these would you like to go to?\"))"
   ]
  },
  {
   "cell_type": "code",
   "execution_count": 33,
   "metadata": {},
   "outputs": [],
   "source": [
    "def get_directions(chosen_i, recomms):\n",
    "    \"\"\"Returns a new map object with directions to the nearest favourite \"\"\"\n",
    "    chosen_station = recomms[chosen_i]\n",
    "    destination = chosen_station.getLocationTuple()\n",
    "    g = geocoder.ip(\"me\")\n",
    "    origin = tuple(g.latlng)\n",
    "    new_map = gmaps.figure()\n",
    "    directions = gmaps.directions_layer(origin, destination)\n",
    "    new_map.add_layer(directions)\n",
    "    return new_map \n",
    "    "
   ]
  },
  {
   "cell_type": "code",
   "execution_count": 34,
   "metadata": {},
   "outputs": [
    {
     "data": {
      "application/vnd.jupyter.widget-view+json": {
       "model_id": "4ada6dfd75214f50b1d599063ade94dc",
       "version_major": 2,
       "version_minor": 0
      },
      "text/plain": [
       "Figure(layout=FigureLayout(height='420px'))"
      ]
     },
     "metadata": {},
     "output_type": "display_data"
    }
   ],
   "source": [
    "get_directions(fav_index, recommendations)"
   ]
  },
  {
   "cell_type": "code",
   "execution_count": null,
   "metadata": {},
   "outputs": [],
   "source": []
  }
 ],
 "metadata": {
  "kernelspec": {
   "display_name": "Python 3",
   "language": "python",
   "name": "python3"
  },
  "language_info": {
   "codemirror_mode": {
    "name": "ipython",
    "version": 3
   },
   "file_extension": ".py",
   "mimetype": "text/x-python",
   "name": "python",
   "nbconvert_exporter": "python",
   "pygments_lexer": "ipython3",
   "version": "3.6.5"
  }
 },
 "nbformat": 4,
 "nbformat_minor": 1
}
